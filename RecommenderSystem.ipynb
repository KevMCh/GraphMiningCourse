{
  "nbformat": 4,
  "nbformat_minor": 0,
  "metadata": {
    "colab": {
      "name": "RecommenderSystem.ipynb",
      "provenance": [],
      "collapsed_sections": []
    },
    "kernelspec": {
      "name": "python3",
      "display_name": "Python 3"
    }
  },
  "cells": [
    {
      "cell_type": "markdown",
      "metadata": {
        "id": "v6OJKZmIyQbd"
      },
      "source": [
        "# Surprise\n",
        "\n",
        "En esta practica trabajaremos con el paquete [Surprise](https://surprise.readthedocs.io/en/stable/index.html) el cual se trata de un paquete basado en sistemas recomendadores, por lo que estará formado por diversos algoritmos y conjuntos de datos para aplicarlos en este fin."
      ]
    },
    {
      "cell_type": "markdown",
      "metadata": {
        "id": "VdiK5cE6zJUV"
      },
      "source": [
        "En este caso el paquete no se encuentra instalado en Google Colab por lo que la primera tarea necesaria es instalarlo."
      ]
    },
    {
      "cell_type": "code",
      "metadata": {
        "id": "LOJ_aH7sup9l",
        "outputId": "8c2adbbe-edf2-49b1-c784-9d1ac0939915",
        "colab": {
          "base_uri": "https://localhost:8080/",
          "height": 119
        }
      },
      "source": [
        "!pip install surprise"
      ],
      "execution_count": 1,
      "outputs": [
        {
          "output_type": "stream",
          "text": [
            "Requirement already satisfied: surprise in /usr/local/lib/python3.6/dist-packages (0.1)\n",
            "Requirement already satisfied: scikit-surprise in /usr/local/lib/python3.6/dist-packages (from surprise) (1.1.1)\n",
            "Requirement already satisfied: numpy>=1.11.2 in /usr/local/lib/python3.6/dist-packages (from scikit-surprise->surprise) (1.18.5)\n",
            "Requirement already satisfied: scipy>=1.0.0 in /usr/local/lib/python3.6/dist-packages (from scikit-surprise->surprise) (1.4.1)\n",
            "Requirement already satisfied: six>=1.10.0 in /usr/local/lib/python3.6/dist-packages (from scikit-surprise->surprise) (1.15.0)\n",
            "Requirement already satisfied: joblib>=0.11 in /usr/local/lib/python3.6/dist-packages (from scikit-surprise->surprise) (0.16.0)\n"
          ],
          "name": "stdout"
        }
      ]
    },
    {
      "cell_type": "code",
      "metadata": {
        "id": "D9xQ8HqjtoR7"
      },
      "source": [
        "from surprise import Dataset\n",
        "from surprise.model_selection import cross_validate, train_test_split"
      ],
      "execution_count": 2,
      "outputs": []
    },
    {
      "cell_type": "markdown",
      "metadata": {
        "id": "tATSiNdn19Bb"
      },
      "source": [
        "# Parte I\n",
        "\n",
        "En esta parte ejecutaremos un dataset de un rankings creado por nosotros mismos, y evaluaremos con un algoritmo recomendador determinado para ver su precisión mediante la validación cruzada."
      ]
    },
    {
      "cell_type": "code",
      "metadata": {
        "id": "ZmqllX8k2AZE"
      },
      "source": [
        "# Importamos los paquetes y liberías necesarios\n",
        "\n",
        "import pandas as pd\n",
        "\n",
        "from surprise import Reader\n",
        "from surprise import accuracy\n",
        "from surprise import NormalPredictor\n",
        "from surprise.model_selection import cross_validate\n"
      ],
      "execution_count": 3,
      "outputs": []
    },
    {
      "cell_type": "code",
      "metadata": {
        "id": "401YcBFKrj8D",
        "outputId": "abe8ba8c-d6a7-4278-94de-4a2316da7dd6",
        "colab": {
          "base_uri": "https://localhost:8080/",
          "height": 204
        }
      },
      "source": [
        "# Creamos el data frame (destacar que el nombre de las columnas es irrelevante)\n",
        "ratingsDict = {'itemID': [1, 1, 1, 2, 2],\n",
        "                'userID': [9, 32, 2, 45, 23],\n",
        "                'rating': [3, 2, 4, 3, 1]}\n",
        "df = pd.DataFrame(ratingsDict)\n",
        "df.head()"
      ],
      "execution_count": 4,
      "outputs": [
        {
          "output_type": "execute_result",
          "data": {
            "text/html": [
              "<div>\n",
              "<style scoped>\n",
              "    .dataframe tbody tr th:only-of-type {\n",
              "        vertical-align: middle;\n",
              "    }\n",
              "\n",
              "    .dataframe tbody tr th {\n",
              "        vertical-align: top;\n",
              "    }\n",
              "\n",
              "    .dataframe thead th {\n",
              "        text-align: right;\n",
              "    }\n",
              "</style>\n",
              "<table border=\"1\" class=\"dataframe\">\n",
              "  <thead>\n",
              "    <tr style=\"text-align: right;\">\n",
              "      <th></th>\n",
              "      <th>itemID</th>\n",
              "      <th>userID</th>\n",
              "      <th>rating</th>\n",
              "    </tr>\n",
              "  </thead>\n",
              "  <tbody>\n",
              "    <tr>\n",
              "      <th>0</th>\n",
              "      <td>1</td>\n",
              "      <td>9</td>\n",
              "      <td>3</td>\n",
              "    </tr>\n",
              "    <tr>\n",
              "      <th>1</th>\n",
              "      <td>1</td>\n",
              "      <td>32</td>\n",
              "      <td>2</td>\n",
              "    </tr>\n",
              "    <tr>\n",
              "      <th>2</th>\n",
              "      <td>1</td>\n",
              "      <td>2</td>\n",
              "      <td>4</td>\n",
              "    </tr>\n",
              "    <tr>\n",
              "      <th>3</th>\n",
              "      <td>2</td>\n",
              "      <td>45</td>\n",
              "      <td>3</td>\n",
              "    </tr>\n",
              "    <tr>\n",
              "      <th>4</th>\n",
              "      <td>2</td>\n",
              "      <td>23</td>\n",
              "      <td>1</td>\n",
              "    </tr>\n",
              "  </tbody>\n",
              "</table>\n",
              "</div>"
            ],
            "text/plain": [
              "   itemID  userID  rating\n",
              "0       1       9       3\n",
              "1       1      32       2\n",
              "2       1       2       4\n",
              "3       2      45       3\n",
              "4       2      23       1"
            ]
          },
          "metadata": {
            "tags": []
          },
          "execution_count": 4
        }
      ]
    },
    {
      "cell_type": "code",
      "metadata": {
        "id": "R0LnmfJK2RXl"
      },
      "source": [
        "# Una variable necesaria para pasar los datos al formato de la librería Surprise es reader de la escala de los datos\n",
        "reader = Reader(rating_scale=(1, 5))\n",
        "\n",
        "# Creamos los datos dando la importancia a que tienen que tener el orde de user ID, item ID y el ranking\n",
        "data = Dataset.load_from_df(df[['userID', 'itemID', 'rating']], reader)"
      ],
      "execution_count": 5,
      "outputs": []
    },
    {
      "cell_type": "markdown",
      "metadata": {
        "id": "eQ6WCvwuLa8C"
      },
      "source": [
        "En este caso el algoritmo que usaremos es un [predictor normal](https://surprise.readthedocs.io/en/stable/basic_algorithms.html) que basa su predicción en un ranking aleatorio de la distribución del conjunto de entrenamiento."
      ]
    },
    {
      "cell_type": "code",
      "metadata": {
        "id": "9W4k8Y9ZI9s3"
      },
      "source": [
        "recommender = NormalPredictor()"
      ],
      "execution_count": 6,
      "outputs": []
    },
    {
      "cell_type": "code",
      "metadata": {
        "id": "lkbbmmFMvC9x",
        "outputId": "bddfe72f-2b99-4421-fe42-d4ec7a2b194d",
        "colab": {
          "base_uri": "https://localhost:8080/",
          "height": 51
        }
      },
      "source": [
        "# Dividimos en train y test\n",
        "trainset, testset = train_test_split(data, test_size=.25)\n",
        "\n",
        "# Entrenamos y realizamos predicciones\n",
        "recommender.fit(trainset)\n",
        "predictions = recommender.test(testset)\n",
        "\n",
        "# Calculamos el error.\n",
        "accuracy.rmse(predictions)"
      ],
      "execution_count": 7,
      "outputs": [
        {
          "output_type": "stream",
          "text": [
            "RMSE: 1.5766\n"
          ],
          "name": "stdout"
        },
        {
          "output_type": "execute_result",
          "data": {
            "text/plain": [
              "1.5766049445782053"
            ]
          },
          "metadata": {
            "tags": []
          },
          "execution_count": 7
        }
      ]
    },
    {
      "cell_type": "markdown",
      "metadata": {
        "id": "ujMUd4av16g8"
      },
      "source": [
        "# Parte II"
      ]
    },
    {
      "cell_type": "code",
      "metadata": {
        "id": "dzzjIGDE2yUD"
      },
      "source": [
        "# Importamos los paquetes y librerías necesarios\n",
        "\n",
        "from surprise import SVD"
      ],
      "execution_count": 8,
      "outputs": []
    },
    {
      "cell_type": "markdown",
      "metadata": {
        "id": "zUjxfXLHuMIg"
      },
      "source": [
        "Cargamos y mostramos los datos, en este caso se trata de una colección de datos obtenida de la página MovieLens en 1997 y está formado por 4 categorías principales, el ID del usuario, el ID de la película, el ranking asignado y una marca de tiempo (características las cuales corresponden a cada columna mostrada a continuación). "
      ]
    },
    {
      "cell_type": "code",
      "metadata": {
        "id": "9OkR9Z9Cujro",
        "outputId": "c8e5ae7e-9958-4f86-e3ab-35d347710f8f",
        "colab": {
          "base_uri": "https://localhost:8080/",
          "height": 187
        }
      },
      "source": [
        "# Cargamos el conjunto de datos movielens-100k\n",
        "data = Dataset.load_builtin('ml-100k')\n",
        "\n",
        "# user id | item id | rating | timestamp\n",
        "data.raw_ratings[:10]"
      ],
      "execution_count": 9,
      "outputs": [
        {
          "output_type": "execute_result",
          "data": {
            "text/plain": [
              "[('196', '242', 3.0, '881250949'),\n",
              " ('186', '302', 3.0, '891717742'),\n",
              " ('22', '377', 1.0, '878887116'),\n",
              " ('244', '51', 2.0, '880606923'),\n",
              " ('166', '346', 1.0, '886397596'),\n",
              " ('298', '474', 4.0, '884182806'),\n",
              " ('115', '265', 2.0, '881171488'),\n",
              " ('253', '465', 5.0, '891628467'),\n",
              " ('305', '451', 3.0, '886324817'),\n",
              " ('6', '86', 3.0, '883603013')]"
            ]
          },
          "metadata": {
            "tags": []
          },
          "execution_count": 9
        }
      ]
    },
    {
      "cell_type": "markdown",
      "metadata": {
        "id": "cs41qOln0CT-"
      },
      "source": [
        "En este caso ejecutaremos el algoritmo [SVD](https://surprise.readthedocs.io/en/stable/matrix_factorization.html#surprise.prediction_algorithms.matrix_factorization.SVD) que está basado en la factorización de matrices el cual ganó popularidad en el [concurso de Netflix](https://www.netflixprize.com/) sobre sistemas recomendadores."
      ]
    },
    {
      "cell_type": "code",
      "metadata": {
        "id": "o9kLbYhkum99"
      },
      "source": [
        "# Creamos la variable con nuestro recomendador SVD\n",
        "recommender = SVD()"
      ],
      "execution_count": 10,
      "outputs": []
    },
    {
      "cell_type": "markdown",
      "metadata": {
        "id": "ZKEuzlEm_O_B"
      },
      "source": [
        "El siguiente paso que realizaremos es aplicar la validación cruzada para ver el resultado que da evaluándola con dos métricas especificas (RMSE - Root Mean Squared Error y MAE - Mean Absolute Error)."
      ]
    },
    {
      "cell_type": "code",
      "metadata": {
        "id": "iVwAF34u3AMj",
        "outputId": "9854d56f-ccc5-4eed-ad5c-d663f2aa5a12",
        "colab": {
          "base_uri": "https://localhost:8080/",
          "height": 173
        }
      },
      "source": [
        "# Aplicamos la validadación cruzada pasandole el algoritmo recomendador, los datos y el valor para dividir los datos\n",
        "cross_validation = cross_validate(recommender, data, measures=['RMSE', 'MAE'], cv=5, verbose=True)\n",
        "print(cross_validation)"
      ],
      "execution_count": 11,
      "outputs": [
        {
          "output_type": "stream",
          "text": [
            "Evaluating RMSE, MAE of algorithm SVD on 5 split(s).\n",
            "\n",
            "                  Fold 1  Fold 2  Fold 3  Fold 4  Fold 5  Mean    Std     \n",
            "RMSE (testset)    0.9370  0.9303  0.9370  0.9432  0.9330  0.9361  0.0044  \n",
            "MAE (testset)     0.7367  0.7346  0.7385  0.7414  0.7386  0.7379  0.0022  \n",
            "Fit time          5.67    5.68    5.67    5.68    5.66    5.67    0.01    \n",
            "Test time         0.15    0.22    0.22    0.15    0.21    0.19    0.04    \n",
            "{'test_rmse': array([0.93701361, 0.93030946, 0.9370251 , 0.94316901, 0.93297642]), 'test_mae': array([0.73665448, 0.73463423, 0.73850309, 0.74138169, 0.73856209]), 'fit_time': (5.6687586307525635, 5.68136739730835, 5.671870231628418, 5.68377161026001, 5.664249420166016), 'test_time': (0.14521574974060059, 0.21622061729431152, 0.22072720527648926, 0.145432710647583, 0.21316981315612793)}\n"
          ],
          "name": "stdout"
        }
      ]
    },
    {
      "cell_type": "markdown",
      "metadata": {
        "id": "G8KlOFfgGI3N"
      },
      "source": [
        "Además podemos predecir la valoración de un usuario sobre un correspondiente elemento:"
      ]
    },
    {
      "cell_type": "code",
      "metadata": {
        "id": "y7uRaO1aGc_P",
        "outputId": "f6ee1a36-2900-4a02-e9e0-800851d739ee",
        "colab": {
          "base_uri": "https://localhost:8080/",
          "height": 34
        }
      },
      "source": [
        "# Identificador del usuario\n",
        "uId = str(196)\n",
        "\n",
        "# Identificador de la película\n",
        "iId = str(302)\n",
        "\n",
        "pred = recommender.predict(uId, iId, r_ui=4, verbose=True)"
      ],
      "execution_count": 12,
      "outputs": [
        {
          "output_type": "stream",
          "text": [
            "user: 196        item: 302        r_ui = 4.00   est = 4.25   {'was_impossible': False}\n"
          ],
          "name": "stdout"
        }
      ]
    }
  ]
}