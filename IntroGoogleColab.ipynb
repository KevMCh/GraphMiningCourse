{
  "nbformat": 4,
  "nbformat_minor": 0,
  "metadata": {
    "colab": {
      "name": "IntroGoogleColab.ipynb",
      "provenance": []
    },
    "kernelspec": {
      "name": "python3",
      "display_name": "Python 3"
    }
  },
  "cells": [
    {
      "cell_type": "markdown",
      "metadata": {
        "id": "14eRM7Ggns54",
        "colab_type": "text"
      },
      "source": [
        "#### Markdown\n",
        "\n",
        "Markdown es un lenguaje de marcado para dar formato a un texto mediante una sintaxis intuitiva.\n",
        "\n",
        "[Enlace guía markdown en español](https://www.ionos.es/digitalguide/paginas-web/desarrollo-web/tutorial-de-markdown/)\n",
        "\n",
        "Ejemplos de markdown:"
      ]
    },
    {
      "cell_type": "markdown",
      "metadata": {
        "id": "S6bc7deonu22",
        "colab_type": "text"
      },
      "source": [
        "# Título 1\n",
        "## Título 2\n",
        "### Título 3\n",
        "\n",
        "** Negrita **\n",
        "\n",
        "*Itálica 1*\n",
        "\n",
        "_Itálica 2_\n",
        "\n",
        "[link text](https://)\n",
        "\n",
        "> Lorem ipsum dolor sit amet, consectetur adipiscing elit. Nulla est purus, ultrices in porttitor in, accumsan non quam. Nam consectetur porttitor rhoncus.\n",
        "\n",
        "\n",
        "Lista:\n",
        "\n",
        "---\n",
        "\n",
        "* Uno\n",
        "* Dos\n",
        "* ...\n",
        "\n",
        "1. Uno\n",
        "2. Dos\n",
        "3. ..."
      ]
    },
    {
      "cell_type": "markdown",
      "metadata": {
        "id": "l9AUUH6diqBW",
        "colab_type": "text"
      },
      "source": [
        "### Comenzamos con el código..  Hello world!"
      ]
    },
    {
      "cell_type": "code",
      "metadata": {
        "id": "WffvGL9RiYP9",
        "colab_type": "code",
        "colab": {
          "base_uri": "https://localhost:8080/",
          "height": 34
        },
        "outputId": "00c08ec0-66e1-492f-8f25-ec907d9e3416"
      },
      "source": [
        "print(\"Hello world\")"
      ],
      "execution_count": null,
      "outputs": [
        {
          "output_type": "stream",
          "text": [
            "Hello world\n"
          ],
          "name": "stdout"
        }
      ]
    },
    {
      "cell_type": "markdown",
      "metadata": {
        "id": "iJ82oyXHiuok",
        "colab_type": "text"
      },
      "source": [
        "**Variables**\n",
        "\n",
        "Una variable es un idenficador que tiene asignado un espacio en el sistema con determinada información.\n",
        "\n",
        "En el ejemplo _text_ es el identificador y tiene asignado la cadena _Hello world_."
      ]
    },
    {
      "cell_type": "code",
      "metadata": {
        "id": "C-jNU25ziz3z",
        "colab_type": "code",
        "colab": {}
      },
      "source": [
        "text = \"Hello world\""
      ],
      "execution_count": null,
      "outputs": []
    },
    {
      "cell_type": "code",
      "metadata": {
        "id": "vV-qeOseitEW",
        "colab_type": "code",
        "colab": {
          "base_uri": "https://localhost:8080/",
          "height": 34
        },
        "outputId": "44bb541a-045e-4936-fdb5-dce62d6cb6ca"
      },
      "source": [
        "print(text)"
      ],
      "execution_count": null,
      "outputs": [
        {
          "output_type": "stream",
          "text": [
            "Hello world\n"
          ],
          "name": "stdout"
        }
      ]
    },
    {
      "cell_type": "markdown",
      "metadata": {
        "id": "bl9Dm6UVr5bB",
        "colab_type": "text"
      },
      "source": [
        "Un array es un tipo de variable estructurada que nos permite almacenar un conjunto de datos homogeneo (todos del mismo tipo). Los ejemplos mostrados, _cars_ es un array de cadenas, mientras que _numbers_ es un array de números."
      ]
    },
    {
      "cell_type": "code",
      "metadata": {
        "id": "NskDAVSfi4VE",
        "colab_type": "code",
        "colab": {}
      },
      "source": [
        "cars = [\"Ford\", \"Volvo\", \"BMW\"]\n",
        "numbers = [1, 2, 3, 4, 5]"
      ],
      "execution_count": null,
      "outputs": []
    },
    {
      "cell_type": "markdown",
      "metadata": {
        "id": "8oHBDxTAi-0B",
        "colab_type": "text"
      },
      "source": [
        "**Comandos**\n",
        "\n",
        "Google Colab proporciona permite realizar operativas similares a la que haríamos desde una consola de linux. Para ello hay que usar los mismos comandos pero añadiendo la exclamación previamente."
      ]
    },
    {
      "cell_type": "code",
      "metadata": {
        "id": "iBkW85_Ai66s",
        "colab_type": "code",
        "colab": {
          "base_uri": "https://localhost:8080/",
          "height": 34
        },
        "outputId": "841b3356-951d-491b-be9f-d4ff0940fa57"
      },
      "source": [
        "# ls para listar los archivos que hay en la carpeta\n",
        "\n",
        "!ls"
      ],
      "execution_count": null,
      "outputs": [
        {
          "output_type": "stream",
          "text": [
            "sample_data\n"
          ],
          "name": "stdout"
        }
      ]
    },
    {
      "cell_type": "code",
      "metadata": {
        "id": "3U6DOUnZi9Cj",
        "colab_type": "code",
        "colab": {}
      },
      "source": [
        "# cd para desplazarnos\n",
        "\n",
        "!cd sample_data/"
      ],
      "execution_count": null,
      "outputs": []
    },
    {
      "cell_type": "code",
      "metadata": {
        "id": "W4ZlXDoYzjE4",
        "colab_type": "code",
        "colab": {}
      },
      "source": [
        "# cd retrocedemos en el árbol de directorios un nivel\n",
        "\n",
        "!cd .."
      ],
      "execution_count": null,
      "outputs": []
    },
    {
      "cell_type": "code",
      "metadata": {
        "id": "hK0p_suEuHtA",
        "colab_type": "code",
        "colab": {
          "base_uri": "https://localhost:8080/",
          "height": 34
        },
        "outputId": "ce3aa529-0a77-44f5-84a9-8d3489116503"
      },
      "source": [
        "# pip install <nombre_paquete> para instalar un nuevo paquete\n",
        "\n",
        "!pip install numpy    # Al tener paquetes preinstalados el resultado de ejecutar este comando es que el requerimiento ya está satisfecho \n"
      ],
      "execution_count": null,
      "outputs": [
        {
          "output_type": "stream",
          "text": [
            "Requirement already satisfied: numpy in /usr/local/lib/python3.6/dist-packages (1.18.5)\n"
          ],
          "name": "stdout"
        }
      ]
    },
    {
      "cell_type": "markdown",
      "metadata": {
        "id": "szO58zELjJe6",
        "colab_type": "text"
      },
      "source": [
        "**Liberías**\n",
        "\n",
        "Una libería es un conjunto de módulos y paquetes en donde se pueden encontrar definidas diferentes funcionalidades.\n",
        "\n",
        "En Python para importar una librería hay que usar la palabra clave _import_ (al usar la palabra clave _as_ lo que se le está asignando un alias a dicha librería)."
      ]
    },
    {
      "cell_type": "code",
      "metadata": {
        "id": "L69t-_qPjDMD",
        "colab_type": "code",
        "colab": {
          "base_uri": "https://localhost:8080/",
          "height": 34
        },
        "outputId": "a3ea48fb-52d6-46e9-c1e0-406b43f1247e"
      },
      "source": [
        "import numpy as np\n",
        "\n",
        "print(np.__version__)"
      ],
      "execution_count": null,
      "outputs": [
        {
          "output_type": "stream",
          "text": [
            "1.18.5\n"
          ],
          "name": "stdout"
        }
      ]
    },
    {
      "cell_type": "markdown",
      "metadata": {
        "id": "5bTGwXgN1VWk",
        "colab_type": "text"
      },
      "source": [
        "#### Funciones\n",
        "\n",
        "Una función es un bloque de código que al llamarlo ejecuta la sección de código que tiene definida."
      ]
    },
    {
      "cell_type": "code",
      "metadata": {
        "id": "hCGgzuGW1fan",
        "colab_type": "code",
        "colab": {}
      },
      "source": [
        "def sayHello():\n",
        "  print(\"Hola\")"
      ],
      "execution_count": null,
      "outputs": []
    },
    {
      "cell_type": "code",
      "metadata": {
        "id": "Zpgdp98G1nVo",
        "colab_type": "code",
        "colab": {
          "base_uri": "https://localhost:8080/",
          "height": 34
        },
        "outputId": "ad47281b-6d07-443e-c195-5a545334c330"
      },
      "source": [
        "sayHello()"
      ],
      "execution_count": null,
      "outputs": [
        {
          "output_type": "stream",
          "text": [
            "Hola\n"
          ],
          "name": "stdout"
        }
      ]
    },
    {
      "cell_type": "markdown",
      "metadata": {
        "id": "FV4AMHX42PTI",
        "colab_type": "text"
      },
      "source": [
        "Se puede pasar información como argumentos definiendo estos entre los paréntesis."
      ]
    },
    {
      "cell_type": "code",
      "metadata": {
        "id": "QKuJbhmG2BeR",
        "colab_type": "code",
        "colab": {}
      },
      "source": [
        "def sayHelloName(name):\n",
        "  print(\"Hola \" + name)"
      ],
      "execution_count": null,
      "outputs": []
    },
    {
      "cell_type": "code",
      "metadata": {
        "id": "NFbN0bvX2H1V",
        "colab_type": "code",
        "colab": {
          "base_uri": "https://localhost:8080/",
          "height": 34
        },
        "outputId": "76d74d0c-dddb-4541-a01e-6312f4a272cb"
      },
      "source": [
        "sayHelloName(\"Chuchu\")"
      ],
      "execution_count": null,
      "outputs": [
        {
          "output_type": "stream",
          "text": [
            "Hola Chuchu\n"
          ],
          "name": "stdout"
        }
      ]
    },
    {
      "cell_type": "code",
      "metadata": {
        "id": "FGnoSoZSjLLq",
        "colab_type": "code",
        "colab": {}
      },
      "source": [
        "speed = [99,86,87,88,111,86,103,87,94,78,77,85,86]"
      ],
      "execution_count": null,
      "outputs": []
    },
    {
      "cell_type": "code",
      "metadata": {
        "id": "UjV2aq8QjPAJ",
        "colab_type": "code",
        "colab": {}
      },
      "source": [
        "mean = np.mean(speed)"
      ],
      "execution_count": null,
      "outputs": []
    },
    {
      "cell_type": "code",
      "metadata": {
        "id": "KRdSRTfzjQJI",
        "colab_type": "code",
        "colab": {}
      },
      "source": [
        "std = np.std(speed)"
      ],
      "execution_count": null,
      "outputs": []
    },
    {
      "cell_type": "code",
      "metadata": {
        "id": "GvKYaIVSjRpx",
        "colab_type": "code",
        "colab": {}
      },
      "source": [
        "var = np.var(speed)"
      ],
      "execution_count": null,
      "outputs": []
    },
    {
      "cell_type": "markdown",
      "metadata": {
        "id": "lwKSDMqfMIqG",
        "colab_type": "text"
      },
      "source": [
        "**Gráficas**\n",
        "\n",
        "Como sabemos, la visualización de datos también es una práctica esencial a la hora de analizar datos, por ello es importante saber como aplicarla. A continuación se ve un ejemplo de mostrar 5 puntos que forman una línea. "
      ]
    },
    {
      "cell_type": "code",
      "metadata": {
        "id": "3bvjfbvpjS1g",
        "colab_type": "code",
        "colab": {
          "base_uri": "https://localhost:8080/",
          "height": 265
        },
        "outputId": "1ae452ea-dc5a-4e1f-c854-04bc7d41b41f"
      },
      "source": [
        "import matplotlib.pyplot as plt\n",
        "\n",
        "x = [1, 2, 3, 4, 5]\n",
        "y = [1, 2, 3, 4, 5]\n",
        "\n",
        "plt.scatter(x, y)\n",
        "plt.show()"
      ],
      "execution_count": null,
      "outputs": [
        {
          "output_type": "display_data",
          "data": {
            "image/png": "[encoded data removed]",
            "text/plain": [
              "<Figure size 432x288 with 1 Axes>"
            ]
          },
          "metadata": {
            "tags": [],
            "needs_background": "light"
          }
        }
      ]
    },
    {
      "cell_type": "markdown",
      "metadata": {
        "id": "HYpdFGJ4zZem",
        "colab_type": "text"
      },
      "source": [
        "**Cargar valores CSV con Pandas**\n",
        "\n",
        "Siempre existen diversas formas de realizar las cosas pero hay algunas que son más sencillas que otra, la libería Pandas es un ejemplo de las segundas ya que nos proporciona funciones para cargar ficheros de forma sencilla."
      ]
    },
    {
      "cell_type": "code",
      "metadata": {
        "id": "RqjdEwyvzWWI",
        "colab_type": "code",
        "colab": {
          "base_uri": "https://localhost:8080/",
          "height": 34
        },
        "outputId": "e84646eb-2f8d-4c25-a1f6-ebf44492378a"
      },
      "source": [
        "!cd sample_data/"
      ],
      "execution_count": null,
      "outputs": [
        {
          "output_type": "stream",
          "text": [
            "/bin/bash: line 0: cd: sample_data/: No such file or directory\n"
          ],
          "name": "stdout"
        }
      ]
    },
    {
      "cell_type": "code",
      "metadata": {
        "id": "b3d717cEzeLD",
        "colab_type": "code",
        "colab": {
          "base_uri": "https://localhost:8080/",
          "height": 68
        },
        "outputId": "10f1fdc8-afba-446e-aee0-fec26e1b6e34"
      },
      "source": [
        "!ls"
      ],
      "execution_count": null,
      "outputs": [
        {
          "output_type": "stream",
          "text": [
            "anscombe.json\t\t      mnist_test.csv\n",
            "california_housing_test.csv   mnist_train_small.csv\n",
            "california_housing_train.csv  README.md\n"
          ],
          "name": "stdout"
        }
      ]
    },
    {
      "cell_type": "code",
      "metadata": {
        "id": "ckTN444_zs9a",
        "colab_type": "code",
        "colab": {}
      },
      "source": [
        "import pandas as pd\n",
        "\n",
        "data = pd.read_csv('california_housing_train.csv')"
      ],
      "execution_count": null,
      "outputs": []
    },
    {
      "cell_type": "code",
      "metadata": {
        "id": "8wK9GqUMzzpt",
        "colab_type": "code",
        "colab": {
          "base_uri": "https://localhost:8080/",
          "height": 224
        },
        "outputId": "0235a10e-a719-42cb-a5b7-e3ff149c8d83"
      },
      "source": [
        "data.head()"
      ],
      "execution_count": null,
      "outputs": [
        {
          "output_type": "execute_result",
          "data": {
            "text/html": [
              "<div>\n",
              "<style scoped>\n",
              "    .dataframe tbody tr th:only-of-type {\n",
              "        vertical-align: middle;\n",
              "    }\n",
              "\n",
              "    .dataframe tbody tr th {\n",
              "        vertical-align: top;\n",
              "    }\n",
              "\n",
              "    .dataframe thead th {\n",
              "        text-align: right;\n",
              "    }\n",
              "</style>\n",
              "<table border=\"1\" class=\"dataframe\">\n",
              "  <thead>\n",
              "    <tr style=\"text-align: right;\">\n",
              "      <th></th>\n",
              "      <th>longitude</th>\n",
              "      <th>latitude</th>\n",
              "      <th>housing_median_age</th>\n",
              "      <th>total_rooms</th>\n",
              "      <th>total_bedrooms</th>\n",
              "      <th>population</th>\n",
              "      <th>households</th>\n",
              "      <th>median_income</th>\n",
              "      <th>median_house_value</th>\n",
              "    </tr>\n",
              "  </thead>\n",
              "  <tbody>\n",
              "    <tr>\n",
              "      <th>0</th>\n",
              "      <td>-114.31</td>\n",
              "      <td>34.19</td>\n",
              "      <td>15.0</td>\n",
              "      <td>5612.0</td>\n",
              "      <td>1283.0</td>\n",
              "      <td>1015.0</td>\n",
              "      <td>472.0</td>\n",
              "      <td>1.4936</td>\n",
              "      <td>66900.0</td>\n",
              "    </tr>\n",
              "    <tr>\n",
              "      <th>1</th>\n",
              "      <td>-114.47</td>\n",
              "      <td>34.40</td>\n",
              "      <td>19.0</td>\n",
              "      <td>7650.0</td>\n",
              "      <td>1901.0</td>\n",
              "      <td>1129.0</td>\n",
              "      <td>463.0</td>\n",
              "      <td>1.8200</td>\n",
              "      <td>80100.0</td>\n",
              "    </tr>\n",
              "    <tr>\n",
              "      <th>2</th>\n",
              "      <td>-114.56</td>\n",
              "      <td>33.69</td>\n",
              "      <td>17.0</td>\n",
              "      <td>720.0</td>\n",
              "      <td>174.0</td>\n",
              "      <td>333.0</td>\n",
              "      <td>117.0</td>\n",
              "      <td>1.6509</td>\n",
              "      <td>85700.0</td>\n",
              "    </tr>\n",
              "    <tr>\n",
              "      <th>3</th>\n",
              "      <td>-114.57</td>\n",
              "      <td>33.64</td>\n",
              "      <td>14.0</td>\n",
              "      <td>1501.0</td>\n",
              "      <td>337.0</td>\n",
              "      <td>515.0</td>\n",
              "      <td>226.0</td>\n",
              "      <td>3.1917</td>\n",
              "      <td>73400.0</td>\n",
              "    </tr>\n",
              "    <tr>\n",
              "      <th>4</th>\n",
              "      <td>-114.57</td>\n",
              "      <td>33.57</td>\n",
              "      <td>20.0</td>\n",
              "      <td>1454.0</td>\n",
              "      <td>326.0</td>\n",
              "      <td>624.0</td>\n",
              "      <td>262.0</td>\n",
              "      <td>1.9250</td>\n",
              "      <td>65500.0</td>\n",
              "    </tr>\n",
              "  </tbody>\n",
              "</table>\n",
              "</div>"
            ],
            "text/plain": [
              "   longitude  latitude  ...  median_income  median_house_value\n",
              "0    -114.31     34.19  ...         1.4936             66900.0\n",
              "1    -114.47     34.40  ...         1.8200             80100.0\n",
              "2    -114.56     33.69  ...         1.6509             85700.0\n",
              "3    -114.57     33.64  ...         3.1917             73400.0\n",
              "4    -114.57     33.57  ...         1.9250             65500.0\n",
              "\n",
              "[5 rows x 9 columns]"
            ]
          },
          "metadata": {
            "tags": []
          },
          "execution_count": 23
        }
      ]
    }
  ]
}