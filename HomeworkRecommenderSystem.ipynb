{
  "nbformat": 4,
  "nbformat_minor": 0,
  "metadata": {
    "colab": {
      "name": "HomeworkRecommenderSystem.ipynb",
      "provenance": [],
      "collapsed_sections": [],
      "authorship_tag": "ABX9TyP7gn2HJcBy2zwXW5L+Nu4R"
    },
    "kernelspec": {
      "name": "python3",
      "display_name": "Python 3"
    }
  },
  "cells": [
    {
      "cell_type": "markdown",
      "metadata": {
        "id": "3CM3-StGYzgi"
      },
      "source": [
        "# Surprise\n",
        "\n",
        "Ejericio con la libería de [Surprise](https://surprise.readthedocs.io/en/stable/index.html) de Sistemas Recomendadores."
      ]
    },
    {
      "cell_type": "markdown",
      "metadata": {
        "id": "HIGxjw7pY0yf"
      },
      "source": [
        "Instalamos el paquete"
      ]
    },
    {
      "cell_type": "code",
      "metadata": {
        "id": "LOJ_aH7sup9l",
        "outputId": "fe3e408c-85fa-4021-bf8b-0c9491bf03a9",
        "colab": {
          "base_uri": "https://localhost:8080/",
          "height": 309
        }
      },
      "source": [
        "!pip install surprise"
      ],
      "execution_count": 5,
      "outputs": [
        {
          "output_type": "stream",
          "text": [
            "Collecting surprise\n",
            "  Downloading https://files.pythonhosted.org/packages/61/de/e5cba8682201fcf9c3719a6fdda95693468ed061945493dea2dd37c5618b/surprise-0.1-py2.py3-none-any.whl\n",
            "Collecting scikit-surprise\n",
            "\u001b[?25l  Downloading https://files.pythonhosted.org/packages/97/37/5d334adaf5ddd65da99fc65f6507e0e4599d092ba048f4302fe8775619e8/scikit-surprise-1.1.1.tar.gz (11.8MB)\n",
            "\u001b[K     |████████████████████████████████| 11.8MB 2.7MB/s \n",
            "\u001b[?25hRequirement already satisfied: joblib>=0.11 in /usr/local/lib/python3.6/dist-packages (from scikit-surprise->surprise) (0.16.0)\n",
            "Requirement already satisfied: numpy>=1.11.2 in /usr/local/lib/python3.6/dist-packages (from scikit-surprise->surprise) (1.18.5)\n",
            "Requirement already satisfied: scipy>=1.0.0 in /usr/local/lib/python3.6/dist-packages (from scikit-surprise->surprise) (1.4.1)\n",
            "Requirement already satisfied: six>=1.10.0 in /usr/local/lib/python3.6/dist-packages (from scikit-surprise->surprise) (1.15.0)\n",
            "Building wheels for collected packages: scikit-surprise\n",
            "  Building wheel for scikit-surprise (setup.py) ... \u001b[?25l\u001b[?25hdone\n",
            "  Created wheel for scikit-surprise: filename=scikit_surprise-1.1.1-cp36-cp36m-linux_x86_64.whl size=1670923 sha256=d5c60626a8d852a093fef4ef5e1f269dde7d94706fd99d74953fa43ba3bb6a2c\n",
            "  Stored in directory: /root/.cache/pip/wheels/78/9c/3d/41b419c9d2aff5b6e2b4c0fc8d25c538202834058f9ed110d0\n",
            "Successfully built scikit-surprise\n",
            "Installing collected packages: scikit-surprise, surprise\n",
            "Successfully installed scikit-surprise-1.1.1 surprise-0.1\n"
          ],
          "name": "stdout"
        }
      ]
    },
    {
      "cell_type": "markdown",
      "metadata": {
        "id": "2PL2TegaY6MN"
      },
      "source": [
        "Importamos los paquetes necesarios."
      ]
    },
    {
      "cell_type": "code",
      "metadata": {
        "id": "D9xQ8HqjtoR7"
      },
      "source": [
        "import pandas as pd\n",
        "\n",
        "from surprise import Reader\n",
        "from surprise import Dataset\n",
        "from surprise import accuracy\n",
        "from surprise import KNNBasic\n",
        "from surprise.model_selection import train_test_split, cross_validate"
      ],
      "execution_count": 31,
      "outputs": []
    },
    {
      "cell_type": "markdown",
      "metadata": {
        "id": "FeLxHp-Kv-W6"
      },
      "source": [
        "### Añadir una nueva valoración\n",
        "\n",
        "En esta parte del código es necesario añadir una nueva valoración al dataset creado, hay que tener en cuenta que tienes que además hay que añadir el identificador del usuario que la creo y la película que se valoró."
      ]
    },
    {
      "cell_type": "code",
      "metadata": {
        "id": "TjnS6yuuzMYC",
        "outputId": "3308851c-ee82-4101-d67c-e75a7851323a",
        "colab": {
          "base_uri": "https://localhost:8080/",
          "height": 173
        }
      },
      "source": [
        "films = {1:'La vida de Pi', 2:'Avengers', 3:'Titanic', 4:'Brave'}\n",
        "dfFilms = pd.DataFrame(films.items(), columns=['ID', 'Title'])\n",
        "dfFilms.head()"
      ],
      "execution_count": 15,
      "outputs": [
        {
          "output_type": "execute_result",
          "data": {
            "text/html": [
              "<div>\n",
              "<style scoped>\n",
              "    .dataframe tbody tr th:only-of-type {\n",
              "        vertical-align: middle;\n",
              "    }\n",
              "\n",
              "    .dataframe tbody tr th {\n",
              "        vertical-align: top;\n",
              "    }\n",
              "\n",
              "    .dataframe thead th {\n",
              "        text-align: right;\n",
              "    }\n",
              "</style>\n",
              "<table border=\"1\" class=\"dataframe\">\n",
              "  <thead>\n",
              "    <tr style=\"text-align: right;\">\n",
              "      <th></th>\n",
              "      <th>ID</th>\n",
              "      <th>Title</th>\n",
              "    </tr>\n",
              "  </thead>\n",
              "  <tbody>\n",
              "    <tr>\n",
              "      <th>0</th>\n",
              "      <td>1</td>\n",
              "      <td>La vida de Pi</td>\n",
              "    </tr>\n",
              "    <tr>\n",
              "      <th>1</th>\n",
              "      <td>2</td>\n",
              "      <td>Avengers</td>\n",
              "    </tr>\n",
              "    <tr>\n",
              "      <th>2</th>\n",
              "      <td>3</td>\n",
              "      <td>Titanic</td>\n",
              "    </tr>\n",
              "    <tr>\n",
              "      <th>3</th>\n",
              "      <td>4</td>\n",
              "      <td>Brave</td>\n",
              "    </tr>\n",
              "  </tbody>\n",
              "</table>\n",
              "</div>"
            ],
            "text/plain": [
              "   ID          Title\n",
              "0   1  La vida de Pi\n",
              "1   2       Avengers\n",
              "2   3        Titanic\n",
              "3   4          Brave"
            ]
          },
          "metadata": {
            "tags": []
          },
          "execution_count": 15
        }
      ]
    },
    {
      "cell_type": "code",
      "metadata": {
        "id": "ZmqllX8k2AZE",
        "outputId": "1647d6f8-3ffa-4f70-d1f6-0618dff87949",
        "colab": {
          "base_uri": "https://localhost:8080/",
          "height": 204
        }
      },
      "source": [
        "ratings = {'FilmID': [1, 2, 4, 2, 3, 3, 2, 4],\n",
        "           'UserID': [1, 1, 2, 3, 3, 4, 1, 3],\n",
        "           'Stars': [5, 4, 1, 4, 3, 2, 4, 3]}\n",
        "\n",
        "dfRatings = pd.DataFrame(ratings)\n",
        "dfRatings.head()"
      ],
      "execution_count": 39,
      "outputs": [
        {
          "output_type": "execute_result",
          "data": {
            "text/html": [
              "<div>\n",
              "<style scoped>\n",
              "    .dataframe tbody tr th:only-of-type {\n",
              "        vertical-align: middle;\n",
              "    }\n",
              "\n",
              "    .dataframe tbody tr th {\n",
              "        vertical-align: top;\n",
              "    }\n",
              "\n",
              "    .dataframe thead th {\n",
              "        text-align: right;\n",
              "    }\n",
              "</style>\n",
              "<table border=\"1\" class=\"dataframe\">\n",
              "  <thead>\n",
              "    <tr style=\"text-align: right;\">\n",
              "      <th></th>\n",
              "      <th>FilmID</th>\n",
              "      <th>UserID</th>\n",
              "      <th>Stars</th>\n",
              "    </tr>\n",
              "  </thead>\n",
              "  <tbody>\n",
              "    <tr>\n",
              "      <th>0</th>\n",
              "      <td>1</td>\n",
              "      <td>1</td>\n",
              "      <td>5</td>\n",
              "    </tr>\n",
              "    <tr>\n",
              "      <th>1</th>\n",
              "      <td>2</td>\n",
              "      <td>1</td>\n",
              "      <td>4</td>\n",
              "    </tr>\n",
              "    <tr>\n",
              "      <th>2</th>\n",
              "      <td>4</td>\n",
              "      <td>2</td>\n",
              "      <td>1</td>\n",
              "    </tr>\n",
              "    <tr>\n",
              "      <th>3</th>\n",
              "      <td>2</td>\n",
              "      <td>3</td>\n",
              "      <td>4</td>\n",
              "    </tr>\n",
              "    <tr>\n",
              "      <th>4</th>\n",
              "      <td>3</td>\n",
              "      <td>3</td>\n",
              "      <td>3</td>\n",
              "    </tr>\n",
              "  </tbody>\n",
              "</table>\n",
              "</div>"
            ],
            "text/plain": [
              "   FilmID  UserID  Stars\n",
              "0       1       1      5\n",
              "1       2       1      4\n",
              "2       4       2      1\n",
              "3       2       3      4\n",
              "4       3       3      3"
            ]
          },
          "metadata": {
            "tags": []
          },
          "execution_count": 39
        }
      ]
    },
    {
      "cell_type": "code",
      "metadata": {
        "id": "R0LnmfJK2RXl"
      },
      "source": [
        "reader = Reader(rating_scale=(1, 5))\n",
        "\n",
        "data = Dataset.load_from_df(dfRatings[['UserID', 'FilmID', 'Stars']], reader)"
      ],
      "execution_count": 19,
      "outputs": []
    },
    {
      "cell_type": "markdown",
      "metadata": {
        "id": "4Nibn8SHa8Cd"
      },
      "source": [
        "### KNN\n",
        "Falta definir el código de nuestro algoritmo, que en este caso se tratará de uno basado en los k vecinos más cercanos (KNN),[concretamente el KNNBasic](https://surprise.readthedocs.io/en/stable/knn_inspired.html)"
      ]
    },
    {
      "cell_type": "code",
      "metadata": {
        "id": "o9kLbYhkum99"
      },
      "source": [
        ""
      ],
      "execution_count": 21,
      "outputs": []
    },
    {
      "cell_type": "markdown",
      "metadata": {
        "id": "_YxsGFWsZkKC"
      },
      "source": [
        "### Cross-validation\n",
        "\n",
        "En este método es necesario definir el número de divisiones que utilizará la validación cruzada, la cual definiremos en 5. Hay que pasarle el parámetro correspondiente al método."
      ]
    },
    {
      "cell_type": "code",
      "metadata": {
        "id": "iVwAF34u3AMj",
        "outputId": "a5888c3d-1c49-4508-dab5-1c40b607ceac",
        "colab": {
          "base_uri": "https://localhost:8080/",
          "height": 343
        }
      },
      "source": [
        "cross_validation = cross_validate(recommender, data, verbose=True)\n",
        "print(cross_validation)"
      ],
      "execution_count": 28,
      "outputs": [
        {
          "output_type": "stream",
          "text": [
            "Computing the msd similarity matrix...\n",
            "Done computing similarity matrix.\n",
            "Computing the msd similarity matrix...\n",
            "Done computing similarity matrix.\n",
            "Computing the msd similarity matrix...\n",
            "Done computing similarity matrix.\n",
            "Computing the msd similarity matrix...\n",
            "Done computing similarity matrix.\n",
            "Computing the msd similarity matrix...\n",
            "Done computing similarity matrix.\n",
            "Evaluating RMSE, MAE of algorithm KNNBasic on 5 split(s).\n",
            "\n",
            "                  Fold 1  Fold 2  Fold 3  Fold 4  Fold 5  Mean    Std     \n",
            "RMSE (testset)    1.0000  1.0541  1.4142  0.2857  2.5714  1.2651  0.7487  \n",
            "MAE (testset)     1.0000  1.0000  1.0000  0.2857  2.5714  1.1714  0.7527  \n",
            "Fit time          0.00    0.00    0.00    0.00    0.00    0.00    0.00    \n",
            "Test time         0.00    0.00    0.00    0.00    0.00    0.00    0.00    \n",
            "{'test_rmse': array([1.        , 1.05409255, 1.41421356, 0.28571429, 2.57142857]), 'test_mae': array([1.        , 1.        , 1.        , 0.28571429, 2.57142857]), 'fit_time': (0.0007662773132324219, 0.00048065185546875, 0.0005106925964355469, 0.0011186599731445312, 0.0005178451538085938), 'test_time': (0.00017690658569335938, 0.0002224445343017578, 0.00012612342834472656, 9.369850158691406e-05, 0.00010061264038085938)}\n"
          ],
          "name": "stdout"
        }
      ]
    },
    {
      "cell_type": "markdown",
      "metadata": {
        "id": "ltP_Vz8LfIfP"
      },
      "source": [
        "### Train and test\n",
        "\n",
        "A esta celda le falta algo.. concretamente falla el entrenamiento ¿Cuál es la función para entrenar un modelo?"
      ]
    },
    {
      "cell_type": "code",
      "metadata": {
        "id": "lkbbmmFMvC9x",
        "outputId": "c418ebe8-aa6e-46af-b29b-8fc77fdf5d29",
        "colab": {
          "base_uri": "https://localhost:8080/",
          "height": 85
        }
      },
      "source": [
        "# Dividimos en train y test\n",
        "trainset, testset = train_test_split(data, test_size=.25)\n",
        "\n",
        "# Entrenamos y realizamos predicciones\n",
        "recommender.______(trainset)\n",
        "predictions = recommender.test(testset)\n",
        "\n",
        "# Calculamos el error.\n",
        "accuracy.rmse(predictions)"
      ],
      "execution_count": 32,
      "outputs": [
        {
          "output_type": "stream",
          "text": [
            "Computing the msd similarity matrix...\n",
            "Done computing similarity matrix.\n",
            "RMSE: 0.9428\n"
          ],
          "name": "stdout"
        },
        {
          "output_type": "execute_result",
          "data": {
            "text/plain": [
              "0.9428090415820635"
            ]
          },
          "metadata": {
            "tags": []
          },
          "execution_count": 32
        }
      ]
    },
    {
      "cell_type": "markdown",
      "metadata": {
        "id": "Q-2TFNQnnYqH"
      },
      "source": [
        "### Predicción de un usuario específico\n",
        "\n",
        "En la siguiente celda hay que definir el código para evaluar una predicción concreta, justamente la del usuario con identificador 2 y la película de identificador 4 que corresponde con _Brave_. ¿Qué habría que definir para realizar dicha predicción? ¿es obligatorio aplicar el parámetro r_ui?"
      ]
    },
    {
      "cell_type": "code",
      "metadata": {
        "id": "1VGwsfIxmIK-",
        "outputId": "a711fb5a-8541-4f3b-a614-abf88c44f325",
        "colab": {
          "base_uri": "https://localhost:8080/",
          "height": 54
        }
      },
      "source": [
        ""
      ],
      "execution_count": 43,
      "outputs": [
        {
          "output_type": "stream",
          "text": [
            "user: 2          item: 1          r_ui = None   est = 3.33   {'was_impossible': True, 'reason': 'User and/or item is unknown.'}\n"
          ],
          "name": "stdout"
        }
      ]
    }
  ]
}